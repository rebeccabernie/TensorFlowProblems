{
 "cells": [
  {
   "cell_type": "markdown",
   "metadata": {},
   "source": [
    "## Tensor Flow Problem Sheet\n",
    "\n",
    "These problems relate to the [TensorFlow](https://www.tensorflow.org/) python library for pattern recognition. This notebook uses the [Iris Data Set](https://archive.ics.uci.edu/ml/datasets/iris)."
   ]
  },
  {
   "cell_type": "markdown",
   "metadata": {},
   "source": [
    "### 1.  Use Tensorflow to create a model.\n",
    "Create a model that uses a flower's sepal width / length and petal width / length to predict the species of Iris."
   ]
  },
  {
   "cell_type": "code",
   "execution_count": 8,
   "metadata": {},
   "outputs": [
    {
     "name": "stdout",
     "output_type": "stream",
     "text": [
      "First 5 rows: \n",
      "  [[ 5.1  3.5  1.4  0.2]\n",
      " [ 4.9  3.   1.4  0.2]\n",
      " [ 4.7  3.2  1.3  0.2]\n",
      " [ 4.6  3.1  1.5  0.2]\n",
      " [ 5.   3.6  1.4  0.2]]\n"
     ]
    }
   ],
   "source": [
    "# Adapted from: https://gist.github.com/NiharG15/cd8272c9639941cf8f481a7c4478d525\n",
    "\n",
    "import numpy as np\n",
    "import tensorflow as tf\n",
    "import keras as kr\n",
    "# SciKit has good functionality for dealing with datasets - \n",
    "# http://scikit-learn.org/stable/modules/classes.html#module-sklearn.datasets\n",
    "import sklearn.datasets as skds\n",
    "import sklearn.preprocessing as skpp\n",
    "\n",
    "# Load the dataset and print out the first 5 rows to make sure.\n",
    "iris = skds.load_iris()   # Inbuilt function - http://scikit-learn.org/stable/modules/generated/sklearn.datasets.load_iris.html\n",
    "print('First 5 rows: \\n ', iris.data[:5])\n",
    "\n",
    "x = iris.data # let x equal the full dataset\n",
    "y_ = iris.target.reshape(-1, 1) # let y equal to a single column of all data\n",
    "\n",
    "# One Hot Encode - formats data to better fit classification algorithms in machine learning. See note.\n",
    "encoder = skpp.OneHotEncoder(sparse=False)\n",
    "y = encoder.fit_transform(y_)\n",
    "#print(y)\n"
   ]
  },
  {
   "cell_type": "markdown",
   "metadata": {},
   "source": [
    "**NB:** While searching through examples of classification prediction in TensorFlow/Keras, I came across the term *One Hot Encoding* a lot. After some online searching, I found that One Hot Encoding is basically a way of transforming categorical features, such as plant type/classification, to a format that works better for machine learning algorithms. From my understanding, boolean columns are generated for each entry in the dataset - one column per type of entry. If an entry is a particular type, a `1` appears in the column, if not a `0`. For example, a randomised iris data set might look like this:\n",
    "\n",
    "|     | Setosa        | Versicolor    | Virginica  |\n",
    "|---- | ------------- |:-------------:|:-----:     |\n",
    "|Plant1     | 0      | 1 | 0     |\n",
    "|Plant2     | 1      | 0  |  0    |\n",
    "|Plant3     | 0 | 0     |  1     |\n",
    "\n",
    "In this table, Plant1 is a versicolor, Plant2 is a setosa, and Plant3 is a virginica."
   ]
  },
  {
   "cell_type": "markdown",
   "metadata": {},
   "source": [
    "### 2. Split the data into training and testing sets.\n",
    "Investigate the *best way to do this* - write some code to randomly separate data if desired. Reference relevant material."
   ]
  },
  {
   "cell_type": "code",
   "execution_count": null,
   "metadata": {
    "collapsed": true
   },
   "outputs": [],
   "source": [
    "inds = np.random.permutation(len(inputs))\n",
    "train_inds, test_inds = np.array_split(inds, 2)\n",
    "inputs_train, outputs_train = inputs[train_inds], outputs_cats[train_inds]\n",
    "inputs_test,  outputs_test  = inputs[test_inds],  outputs_cats[test_inds]\n",
    "\n",
    "print(inputs_train)\n",
    "print(outputs_train)"
   ]
  },
  {
   "cell_type": "markdown",
   "metadata": {},
   "source": [
    "### 3. Train the model.\n",
    "Train the model using the test (should be training?) set."
   ]
  },
  {
   "cell_type": "markdown",
   "metadata": {},
   "source": [
    "### 4. Test the model.\n",
    "Test your model using the testing set. Calculate and display clearly the error rate."
   ]
  }
 ],
 "metadata": {
  "kernelspec": {
   "display_name": "Python 3",
   "language": "python",
   "name": "python3"
  },
  "language_info": {
   "codemirror_mode": {
    "name": "ipython",
    "version": 3
   },
   "file_extension": ".py",
   "mimetype": "text/x-python",
   "name": "python",
   "nbconvert_exporter": "python",
   "pygments_lexer": "ipython3",
   "version": "3.6.2"
  }
 },
 "nbformat": 4,
 "nbformat_minor": 2
}
