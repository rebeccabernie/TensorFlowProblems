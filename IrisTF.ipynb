{
 "cells": [
  {
   "cell_type": "markdown",
   "metadata": {},
   "source": [
    "## Tensor Flow Problem Sheet\n",
    "\n",
    "These problems relate to the [TensorFlow](https://www.tensorflow.org/) python library for pattern recognition. This notebook uses the [Iris Data Set](https://archive.ics.uci.edu/ml/datasets/iris)."
   ]
  },
  {
   "cell_type": "markdown",
   "metadata": {},
   "source": [
    "### 1.  Use Tensorflow to create a model.\n",
    "Create a model that uses a flower's sepal width / length and petal width / length to predict the species of Iris."
   ]
  },
  {
   "cell_type": "code",
   "execution_count": 10,
   "metadata": {},
   "outputs": [],
   "source": [
    "'''\n",
    "import tensorflow as tf\n",
    "import pandas as pd\n",
    "import numpy as np\n",
    "from numpy import genfromtxt\n",
    "\n",
    "iD = genfromtxt('data.csv', delimiter=',')\n",
    "irisData = np.array([iD])\n",
    "with tf.Session() as sess:\n",
    "    tf.global_variables_initializer().run()\n",
    "\n",
    "    irisTF = tf.constant(irisData)\n",
    "    print(irisTF.eval())\n",
    "\n",
    "# Read data from CSV adapted from https://www.tensorflow.org/versions/r1.1/programmers_guide/reading_data\n",
    "'''\n",
    "\n",
    "# Adapted from: https://github.com/salmanahmad4u/keras-iris/blob/master/iris_nn.py\n",
    "\n",
    "import csv\n",
    "import numpy as np\n",
    "import keras as kr\n",
    "\n",
    "#print(kr.methods)\n",
    "\n",
    "# Load the dataset from csv\n",
    "iris = list(csv.reader(open('data.csv')))[1:]\n",
    "\n",
    "# Add inputs (sepal length, sepal width, petal length, petal width) to numpy array, comma separated, to 4th col.\n",
    "inputs  = np.array(iris)[:4].astype(np.float)\n",
    "\n",
    "outputs = np.array(iris)[:4]\n",
    "outputs_vals, outputs_ints = np.unique(outputs, return_inverse=True) # Convert outputs to ints\n",
    "# Encode the category integers as binary categorical vairables.\n",
    "outputs_cats = kr.utils.to_categorical(outputs_ints)\n"
   ]
  },
  {
   "cell_type": "markdown",
   "metadata": {},
   "source": [
    "### 2. Split the data into training and testing sets.\n",
    "Investigate the *best way to do this* - write some code to randomly separate data if desired. Reference relevant material."
   ]
  },
  {
   "cell_type": "code",
   "execution_count": 15,
   "metadata": {},
   "outputs": [
    {
     "name": "stdout",
     "output_type": "stream",
     "text": [
      "[[ 4.9  3.   1.4  0.2]\n",
      " [ 5.   3.6  1.4  0.2]]\n",
      "[[ 0.  0.  0.  0.  0.  0.  0.  0.  0.  0.  1.  0.]\n",
      " [ 1.  0.  0.  0.  0.  0.  0.  0.  0.  0.  0.  0.]]\n"
     ]
    }
   ],
   "source": [
    "inds = np.random.permutation(len(inputs))\n",
    "train_inds, test_inds = np.array_split(inds, 2)\n",
    "inputs_train, outputs_train = inputs[train_inds], outputs_cats[train_inds]\n",
    "inputs_test,  outputs_test  = inputs[test_inds],  outputs_cats[test_inds]\n",
    "\n",
    "print(inputs_train)\n",
    "print(outputs_train)"
   ]
  },
  {
   "cell_type": "markdown",
   "metadata": {},
   "source": [
    "### 3. Train the model.\n",
    "Train the model using the test (should be training?) set."
   ]
  },
  {
   "cell_type": "markdown",
   "metadata": {},
   "source": [
    "### 4. Test the model.\n",
    "Test your model using the testing set. Calculate and display clearly the error rate."
   ]
  }
 ],
 "metadata": {
  "kernelspec": {
   "display_name": "Python 3",
   "language": "python",
   "name": "python3"
  },
  "language_info": {
   "codemirror_mode": {
    "name": "ipython",
    "version": 3
   },
   "file_extension": ".py",
   "mimetype": "text/x-python",
   "name": "python",
   "nbconvert_exporter": "python",
   "pygments_lexer": "ipython3",
   "version": "3.6.2"
  }
 },
 "nbformat": 4,
 "nbformat_minor": 2
}
